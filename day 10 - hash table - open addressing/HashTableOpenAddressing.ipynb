{
 "cells": [
  {
   "cell_type": "markdown",
   "metadata": {},
   "source": [
    "# Hash Table - Open Addressing"
   ]
  },
  {
   "cell_type": "code",
   "execution_count": 46,
   "metadata": {},
   "outputs": [],
   "source": [
    "import numpy as np\n",
    "import os"
   ]
  },
  {
   "cell_type": "markdown",
   "metadata": {},
   "source": [
    "## algorithm"
   ]
  },
  {
   "cell_type": "code",
   "execution_count": 47,
   "metadata": {},
   "outputs": [],
   "source": [
    "class HashTable:\n",
    "\n",
    "    ratioExpand = .75\n",
    "    ratioShrink = .25\n",
    "    minSize = 8\n",
    "    # define marked empty\n",
    "    _empty = (None,)\n",
    "    \n",
    "    def __init__(self, size=None):\n",
    "        self._size    = size if (size or size > self.minSize) else self.minSize\n",
    "        self._buckets = [None] * self._size\n",
    "        self._num     = 0\n",
    "\n",
    "    def _entry(self, key):\n",
    "        hash_idx = hash(key)\n",
    "        idx1 = None\n",
    "        \n",
    "        for i in range(self._size):\n",
    "            # quadratic probing\n",
    "            idx = ( hash_idx + (i+i*i)//2 ) % self._size\n",
    "            entry = self._buckets[idx]\n",
    "            if entry is None:\n",
    "                return (None, idx) if idx1 is None else (None, idx1)\n",
    "            elif entry is self._empty and idx1 is None:\n",
    "                idx1 = idx\n",
    "            elif entry[0] == key:\n",
    "                return entry, idx\n",
    "        else:\n",
    "            # out of space\n",
    "            if idx1 is None:\n",
    "                raise IndexError()\n",
    "        \n",
    "        # entry, index\n",
    "        return (None, idx1)\n",
    "\n",
    "    def _ensureCapacity(self):\n",
    "        if self._num > self.ratioExpand * self._size:\n",
    "            self._size = self._size << 1\n",
    "            # print('Expand to '+str(self._size))\n",
    "        elif self._num < self.ratioShrink * self._size and \\\n",
    "            (self._size >> 1) >= self.minSize:\n",
    "            self._size = self._size >> 1\n",
    "            # print('Shink to '+str(self._size))\n",
    "        else:\n",
    "            return\n",
    "        \n",
    "        # reallocate\n",
    "        entries = self._buckets   # shallow copy\n",
    "        self._buckets = [None] * self._size\n",
    "        \n",
    "        for p in entries:\n",
    "            if p and p is not self._empty:\n",
    "                _, idx = self._entry(p[0])\n",
    "                self._buckets[idx] = p\n",
    "        \n",
    "    def __len__(self):\n",
    "        return self._num\n",
    "\n",
    "    def __contains__(self, key):\n",
    "        p, _ = self._entry(key)\n",
    "        return bool(p)\n",
    "\n",
    "    def __getitem__(self, key):\n",
    "        p, _ = self._entry(key)\n",
    "        return p[1] if p else None\n",
    "\n",
    "    def __setitem__(self, key, value):\n",
    "        p, idx = self._entry(key)\n",
    "        self._buckets[idx] = (key, value)\n",
    "        \n",
    "        if p is None or p is self._empty:\n",
    "            self._num += 1\n",
    "            self._ensureCapacity()\n",
    "\n",
    "    def __delitem__(self, key):\n",
    "        p, idx = self._entry(key)\n",
    "        if p:\n",
    "            self._buckets[idx] = self._empty\n",
    "        \n",
    "        if p and p is not self._empty:\n",
    "            self._num -= 1\n",
    "            self._ensureCapacity()\n",
    "\n",
    "    def __iter__(self):\n",
    "        for p in self._buckets:\n",
    "            if p and p is not self._empty:\n",
    "                yield p\n",
    "            \n",
    "    def slots(self):\n",
    "        return ''.join(p and ('o' if p is self._empty else 'x') or '-' for p in self._buckets)"
   ]
  },
  {
   "cell_type": "markdown",
   "metadata": {},
   "source": [
    "## run"
   ]
  },
  {
   "cell_type": "code",
   "execution_count": 48,
   "metadata": {},
   "outputs": [],
   "source": [
    "table = HashTable()"
   ]
  },
  {
   "cell_type": "code",
   "execution_count": 54,
   "metadata": {},
   "outputs": [],
   "source": [
    "with open(\"players_list.txt\") as fp:\n",
    "    for line in fp:\n",
    "        key, value = line.split(', ')[0], line.split(', ')[1].split('\\n')[0]\n",
    "        table[key] = value\n",
    "        if np.random.rand() >= .5:\n",
    "            del table[key]"
   ]
  },
  {
   "cell_type": "code",
   "execution_count": 55,
   "metadata": {},
   "outputs": [
    {
     "data": {
      "text/plain": [
       "(49, 128)"
      ]
     },
     "execution_count": 55,
     "metadata": {},
     "output_type": "execute_result"
    }
   ],
   "source": [
    "len(table), table._size"
   ]
  },
  {
   "cell_type": "code",
   "execution_count": 56,
   "metadata": {},
   "outputs": [
    {
     "name": "stdout",
     "output_type": "stream",
     "text": [
      "--xxxox-x---o----x----xox----xxx--xx--xx-x--x-xx-o-x-xxxxx-x--xxxxxx--x-------x-x--------------xo--xo---xx-xx--xxxxxx-----x---x-\n"
     ]
    }
   ],
   "source": [
    "print(table.slots())"
   ]
  },
  {
   "cell_type": "code",
   "execution_count": 57,
   "metadata": {},
   "outputs": [
    {
     "name": "stdout",
     "output_type": "stream",
     "text": [
      "('Neymar', 'Brazil')\n",
      "('Arturo Vidal', 'Chile')\n",
      "('Mario Mand\\xc5\\xbeuki\\xc4\\x87', 'Croatia')\n",
      "('Joe Hart', 'England')\n",
      "('Luka Modric', 'Croatia')\n",
      "('Leonardo Bonucci', 'Italy')\n",
      "('Mats Hummels', 'Germany')\n",
      "('Edinson Cavani', 'Uruguay')\n",
      "('Javi Martinez', 'Spain')\n",
      "('Cristiano Ronaldo', 'Portugal')\n",
      "('Manuel Neuer', 'Germany')\n",
      "('Thomas Muller', 'Germany')\n",
      "('Mario G\\xc3\\xb6tze', 'Germany')\n",
      "('Moussa Dembele', 'Belgium')\n",
      "('Bastian Schweinsteiger', 'Germany')\n",
      "('Ashley Cole', 'England')\n",
      "('Lionel Messi', 'Argentina')\n",
      "(\"Mapou Yanga-M'Biwa\", 'France')\n",
      "('Samir Nasri', 'France')\n",
      "('Thiago Silva', 'Brazil')\n",
      "('Didier Drogba', 'Ivory Coast')\n",
      "('Wayne Rooney', 'England')\n",
      "('Daniele De Rossi', 'Italy')\n",
      "('Carlos Tevez', 'Argentina')\n",
      "('Sergio Aguero', 'Argentina')\n",
      "('Mathieu Valbuena', 'France')\n",
      "('Klaas Jan Huntelaar', 'Netherlands')\n",
      "('Robert Lewandowski', 'Poland')\n",
      "('Emmanuel Mayuka', 'Zambia')\n",
      "('Santi Cazorla', 'Spain')\n",
      "('David Silva', 'Spain')\n",
      "('Pierre-Emerick Aubameyang', 'Gabon')\n",
      "('Patrice Evra', 'France')\n",
      "('Javier Zanetti', 'Argentina')\n",
      "('Marcelo', 'Brazil')\n",
      "('Joao Moutinho', 'Portugal')\n",
      "('John Terry', 'England')\n",
      "('Philipp Lahm', 'Germany')\n",
      "('Mario Gomez', 'Germany')\n",
      "('Sergio Ramos', 'Spain')\n",
      "('Hernanes', 'Brazil')\n",
      "('Samuel Eto\\xe2\\x80\\x99o', 'Cameroon')\n",
      "('Gianluigi Buffon', 'Italy')\n",
      "('Shinji Kagawa', 'Japan')\n",
      "('Jordi Alba', 'Spain')\n",
      "('Nemanja Vidic', 'Serbia')\n",
      "('Fernandinho', 'Brazil')\n",
      "('Toni Kroos', 'Germany')\n",
      "('Radamel Falcao', 'Colombia')\n"
     ]
    }
   ],
   "source": [
    "for item in table:\n",
    "    print(item)"
   ]
  },
  {
   "cell_type": "code",
   "execution_count": 52,
   "metadata": {},
   "outputs": [],
   "source": [
    "table['Neymar']"
   ]
  },
  {
   "cell_type": "code",
   "execution_count": 53,
   "metadata": {},
   "outputs": [
    {
     "name": "stdout",
     "output_type": "stream",
     "text": [
      "('Emmanuel Mayuka', 'Zambia')\n"
     ]
    }
   ],
   "source": [
    "print(table._buckets[0])"
   ]
  },
  {
   "cell_type": "code",
   "execution_count": 41,
   "metadata": {},
   "outputs": [],
   "source": [
    "# delete all the values\n",
    "for item in list(table):\n",
    "    del table[item[0]]"
   ]
  },
  {
   "cell_type": "code",
   "execution_count": 42,
   "metadata": {},
   "outputs": [
    {
     "data": {
      "text/plain": [
       "(0, 8)"
      ]
     },
     "execution_count": 42,
     "metadata": {},
     "output_type": "execute_result"
    }
   ],
   "source": [
    "len(table), table._size"
   ]
  },
  {
   "cell_type": "code",
   "execution_count": 32,
   "metadata": {},
   "outputs": [],
   "source": [
    "for item in table:\n",
    "    print(item)"
   ]
  }
 ],
 "metadata": {
  "kernelspec": {
   "display_name": "Python 2",
   "language": "python",
   "name": "python2"
  },
  "language_info": {
   "codemirror_mode": {
    "name": "ipython",
    "version": 2
   },
   "file_extension": ".py",
   "mimetype": "text/x-python",
   "name": "python",
   "nbconvert_exporter": "python",
   "pygments_lexer": "ipython2",
   "version": "2.7.13"
  }
 },
 "nbformat": 4,
 "nbformat_minor": 2
}
