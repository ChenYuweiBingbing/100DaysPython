{
 "cells": [
  {
   "cell_type": "markdown",
   "metadata": {},
   "source": [
    "# Hash Table - Open Addressing"
   ]
  },
  {
   "cell_type": "code",
   "execution_count": 1,
   "metadata": {},
   "outputs": [],
   "source": [
    "import numpy as np\n",
    "import copy\n",
    "import os"
   ]
  },
  {
   "cell_type": "markdown",
   "metadata": {},
   "source": [
    "## algorithm"
   ]
  },
  {
   "cell_type": "code",
   "execution_count": 272,
   "metadata": {},
   "outputs": [],
   "source": [
    "class Entry:\n",
    "    def __init__(self, key, value, next_en):\n",
    "        self._key = key\n",
    "        self._value = value\n",
    "        self._next = next_en\n",
    "        \n",
    "    def __repr__(self):\n",
    "        return \"entry(key= \" + repr(self._key) + \", value= \" + repr(self._value) + \")\"\n",
    "\n",
    "class HashTable:\n",
    "\n",
    "    ratioExpand = .95\n",
    "    ratioShrink = .05\n",
    "    minSize = 13\n",
    "    \n",
    "    def __init__(self, size=None):\n",
    "        self._size    = size if (size or size > self.minSize) else self.minSize\n",
    "        self._buckets = [None] * self._size\n",
    "        self._num     = 0\n",
    "\n",
    "    def _entry(self, key):\n",
    "        hash_idx = hash(key)\n",
    "        idx = hash_idx % self._size\n",
    "        \n",
    "        p = self._buckets[idx]\n",
    "        q = None\n",
    "        while p and p._key != key:\n",
    "            p, q = p._next, p\n",
    "        \n",
    "        # entry, prev_entry, index\n",
    "        return p, q, idx\n",
    "\n",
    "    def _ensureCapacity(self):\n",
    "        if self._num > self.ratioExpand * self._size:\n",
    "            self._size = (self._size << 1) + 1\n",
    "            # print('Expand to '+str(self._size))\n",
    "        elif self._num < self.ratioShrink * self._size and \\\n",
    "            (self._size >> 1) >= self.minSize:\n",
    "            self._size = self._size >> 1\n",
    "            # print('Shink to '+str(self._size))\n",
    "        else:\n",
    "            return\n",
    "        \n",
    "        # reallocate\n",
    "        old_buckets = copy.copy(self._buckets)  # shallow copy\n",
    "        self._buckets = [None] * self._size\n",
    "        \n",
    "        for p in old_buckets:\n",
    "            while p:\n",
    "                idx = hash(p._key) % self._size\n",
    "                p, q = p._next, p\n",
    "                q._next = self._buckets[idx]\n",
    "                self._buckets[idx] = q\n",
    "        \n",
    "    def __len__(self):\n",
    "        return self._num\n",
    "\n",
    "    def __contains__(self, key):\n",
    "        p, _, _ = self._entry(key)\n",
    "        return bool(p)\n",
    "\n",
    "    def __getitem__(self, key):\n",
    "        p, _, _ = self._entry(key)\n",
    "        return p._value if p else None\n",
    "\n",
    "    def __setitem__(self, key, value):\n",
    "        p, _, idx = self._entry(key)\n",
    "        if p is not None:\n",
    "            p._value = value\n",
    "            return\n",
    "        else:\n",
    "            p = Entry(key, value, self._buckets[idx])\n",
    "            self._buckets[idx] = p\n",
    "            self._num += 1\n",
    "            self._ensureCapacity()\n",
    "\n",
    "    def __delitem__(self, key):\n",
    "        p, q, idx = self._entry(key)\n",
    "        if p is None:\n",
    "            return\n",
    "        if q is None:\n",
    "            self._buckets[idx] = p._next\n",
    "        else:\n",
    "            q._next = p._next\n",
    "        \n",
    "        self._num -= 1\n",
    "        self._ensureCapacity()\n",
    "\n",
    "    def __iter__(self):\n",
    "        for p in self._buckets:\n",
    "            while p:\n",
    "                yield p\n",
    "                p = p._next\n",
    "            \n",
    "    def slots(self):\n",
    "        return ''.join(p and 'x' or '-' for p in self._buckets)\n",
    "    \n",
    "    def numChanin(self):\n",
    "        counts = [0] * self._size\n",
    "        for idx in range(self._size):\n",
    "            p = self._buckets[idx]\n",
    "            while p:\n",
    "                p = p._next\n",
    "                counts[idx] += 1\n",
    "        return counts"
   ]
  },
  {
   "cell_type": "markdown",
   "metadata": {},
   "source": [
    "## run"
   ]
  },
  {
   "cell_type": "code",
   "execution_count": 273,
   "metadata": {},
   "outputs": [],
   "source": [
    "table = HashTable()"
   ]
  },
  {
   "cell_type": "code",
   "execution_count": 274,
   "metadata": {},
   "outputs": [],
   "source": [
    "with open(\"players_list.txt\") as fp:\n",
    "    for line in fp:\n",
    "        key, value = line.split(', ')[0], line.split(', ')[1].split('\\n')[0]\n",
    "        table[key] = value"
   ]
  },
  {
   "cell_type": "code",
   "execution_count": 275,
   "metadata": {},
   "outputs": [
    {
     "data": {
      "text/plain": [
       "(100, 111)"
      ]
     },
     "execution_count": 275,
     "metadata": {},
     "output_type": "execute_result"
    }
   ],
   "source": [
    "len(table), table._size"
   ]
  },
  {
   "cell_type": "code",
   "execution_count": 276,
   "metadata": {},
   "outputs": [
    {
     "name": "stdout",
     "output_type": "stream",
     "text": [
      "-x-xxxxx-xx-xx-xxxx-xxxxxxxxxx--xx----xxx-x-x-x-x-xx-x-xx--xxxx--xx-xxxx---xxxx-xxxxx-xxx-x-x--xxx-x--x--xxxx-x\n"
     ]
    }
   ],
   "source": [
    "print(table.slots())"
   ]
  },
  {
   "cell_type": "code",
   "execution_count": 277,
   "metadata": {},
   "outputs": [
    {
     "name": "stdout",
     "output_type": "stream",
     "text": [
      "[0, 2, 0, 1, 1, 1, 1, 1, 0, 1, 1, 0, 1, 2, 0, 1, 1, 3, 1, 0, 1, 1, 4, 1, 1, 3, 3, 2, 1, 2, 0, 0, 1, 1, 0, 0, 0, 0, 2, 1, 1, 0, 1, 0, 1, 0, 1, 0, 1, 0, 1, 1, 0, 1, 0, 1, 2, 0, 0, 1, 1, 1, 2, 0, 0, 3, 1, 0, 1, 1, 2, 1, 0, 0, 0, 1, 1, 1, 1, 0, 1, 1, 2, 4, 1, 0, 1, 1, 1, 0, 1, 0, 1, 0, 0, 2, 1, 1, 0, 1, 0, 0, 1, 0, 0, 1, 1, 1, 4, 0, 2]\n"
     ]
    }
   ],
   "source": [
    "print(table.numChanin())"
   ]
  },
  {
   "cell_type": "code",
   "execution_count": 261,
   "metadata": {},
   "outputs": [
    {
     "name": "stdout",
     "output_type": "stream",
     "text": [
      "entry(key= 'Klaas Jan Huntelaar', value= 'Netherlands')\n",
      "entry(key= 'Zlatan Ibrahimovic', value= 'Sweden')\n",
      "entry(key= 'Wesley Sneijder', value= 'Netherlands')\n",
      "entry(key= 'Luis Suarez', value= 'Uruguay')\n",
      "entry(key= 'David Villa', value= 'Spain')\n",
      "entry(key= 'Carles Puyol', value= 'Spain')\n",
      "entry(key= 'Paulinho', value= 'Brazil')\n",
      "entry(key= 'Angel Di Maria', value= 'Argentina')\n",
      "entry(key= 'Juan Mata', value= 'Spain')\n",
      "entry(key= \"Mapou Yanga-M'Biwa\", value= 'France')\n",
      "entry(key= 'Franck Ribery', value= 'France')\n",
      "entry(key= 'Sergio Busquets', value= 'Spain')\n",
      "entry(key= 'Victor Wanyama', value= 'Kenya')\n",
      "entry(key= 'Neymar', value= 'Brazil')\n",
      "entry(key= 'Daniele De Rossi', value= 'Italy')\n",
      "entry(key= 'Gianluigi Buffon', value= 'Italy')\n",
      "entry(key= 'Toni Kroos', value= 'Germany')\n",
      "entry(key= 'Patrice Evra', value= 'France')\n",
      "entry(key= 'Nemanja Vidic', value= 'Serbia')\n",
      "entry(key= 'Marcelo', value= 'Brazil')\n",
      "entry(key= 'Pierre-Emerick Aubameyang', value= 'Gabon')\n",
      "entry(key= 'Thiago Silva', value= 'Brazil')\n",
      "entry(key= 'Manuel Neuer', value= 'Germany')\n",
      "entry(key= 'Gerard Pique', value= 'Spain')\n",
      "entry(key= 'Carlos Tevez', value= 'Argentina')\n",
      "entry(key= 'Lionel Messi', value= 'Argentina')\n",
      "entry(key= 'Hatem Ben Arfa', value= 'France')\n",
      "entry(key= 'Leonardo Bonucci', value= 'Italy')\n",
      "entry(key= 'Didier Drogba', value= 'Ivory Coast')\n",
      "entry(key= 'Marek Hamsik', value= 'Slovakia')\n",
      "entry(key= 'Hulk', value= 'Brazil')\n",
      "entry(key= 'Philipp Lahm', value= 'Germany')\n",
      "entry(key= 'Javier Pastore', value= 'Argentina')\n",
      "entry(key= 'Sergio Aguero', value= 'Argentina')\n",
      "entry(key= 'Diego Forlan', value= 'Uruguay')\n",
      "entry(key= 'Edinson Cavani', value= 'Uruguay')\n",
      "entry(key= 'Dani Alves', value= 'Brazil')\n",
      "entry(key= 'Petr Cech', value= 'Czech Republic')\n",
      "entry(key= 'Samir Nasri', value= 'France')\n",
      "entry(key= 'Cesc Fabregas', value= 'Spain')\n",
      "entry(key= 'Andres Iniesta', value= 'Spain')\n",
      "entry(key= 'Mesut Ozil', value= 'Germany')\n",
      "entry(key= 'Bastian Schweinsteiger', value= 'Germany')\n",
      "entry(key= 'Marco Reus', value= 'Germany')\n",
      "entry(key= 'Javier Mascherano', value= 'Argentina')\n",
      "entry(key= 'Mario Gomez', value= 'Germany')\n",
      "entry(key= 'Luka Modric', value= 'Croatia')\n",
      "entry(key= 'Robert Lewandowski', value= 'Poland')\n",
      "entry(key= 'John Terry', value= 'England')\n",
      "entry(key= 'Shinji Kagawa', value= 'Japan')\n",
      "entry(key= 'Robin van Persie', value= 'Netherlands')\n",
      "entry(key= 'Mario Mand\\xc5\\xbeuki\\xc4\\x87', value= 'Croatia')\n",
      "entry(key= 'Mario Balotelli', value= 'Italy')\n",
      "entry(key= 'Emmanuel Mayuka', value= 'Zambia')\n",
      "entry(key= 'Javier Zanetti', value= 'Argentina')\n",
      "entry(key= 'Ezequiel Lavezzi', value= 'Argentina')\n",
      "entry(key= 'Samuel Eto\\xe2\\x80\\x99o', value= 'Cameroon')\n",
      "entry(key= 'Ashley Cole', value= 'England')\n",
      "entry(key= 'Santi Cazorla', value= 'Spain')\n",
      "entry(key= 'Oscar', value= 'Brazil')\n",
      "entry(key= 'Giorgio Chiellini', value= 'Italy')\n",
      "entry(key= 'David Luiz', value= 'Brazil')\n",
      "entry(key= 'Mats Hummels', value= 'Germany')\n",
      "entry(key= 'Christian Eriksen', value= 'Denmark')\n",
      "entry(key= 'Jordi Alba', value= 'Spain')\n",
      "entry(key= 'Thomas Muller', value= 'Germany')\n",
      "entry(key= 'Fernandinho', value= 'Brazil')\n",
      "entry(key= 'Marouane Fellaini', value= 'Belgium')\n",
      "entry(key= 'Eden Hazard', value= 'Belgium')\n",
      "entry(key= 'Vincent Kompany', value= 'Belgium')\n",
      "entry(key= 'Arturo Vidal', value= 'Chile')\n",
      "entry(key= 'Wayne Rooney', value= 'England')\n",
      "entry(key= 'Pepe', value= 'Portugal')\n",
      "entry(key= 'Henrikh Mkhitaryan', value= 'Armenia')\n",
      "entry(key= 'Joao Moutinho', value= 'Portugal')\n",
      "entry(key= 'Pedro', value= 'Spain')\n",
      "entry(key= 'Sergio Ramos', value= 'Spain')\n",
      "entry(key= 'Gareth Bale', value= 'Wales')\n",
      "entry(key= 'Mario G\\xc3\\xb6tze', value= 'Germany')\n",
      "entry(key= 'Mathieu Valbuena', value= 'France')\n",
      "entry(key= 'Darijo Srna', value= 'Croatia')\n",
      "entry(key= 'Andrea Pirlo', value= 'Italy')\n",
      "entry(key= 'Kwadwo Asamoah', value= 'Ghana')\n",
      "entry(key= 'Karim Benzema', value= 'France')\n",
      "entry(key= 'Xabi Alonso', value= 'Spain')\n",
      "entry(key= 'Joe Hart', value= 'England')\n",
      "entry(key= 'Yaya Toure', value= 'Ivory Coast')\n",
      "entry(key= 'David Silva', value= 'Spain')\n",
      "entry(key= 'Iker Casillas', value= 'Spain')\n",
      "entry(key= 'Xavi', value= 'Spain')\n",
      "entry(key= 'Radamel Falcao', value= 'Colombia')\n",
      "entry(key= 'Willian', value= 'Brazil')\n",
      "entry(key= 'James Rodriguez', value= 'Colombia')\n",
      "entry(key= 'Moussa Dembele', value= 'Belgium')\n",
      "entry(key= 'Hernanes', value= 'Brazil')\n",
      "entry(key= 'Ramires', value= 'Brazil')\n",
      "entry(key= 'Cristiano Ronaldo', value= 'Portugal')\n",
      "entry(key= 'Stephan El Shaarawy', value= 'Italy')\n",
      "entry(key= 'Javi Martinez', value= 'Spain')\n",
      "entry(key= 'Arjen Robben', value= 'Netherlands')\n"
     ]
    }
   ],
   "source": [
    "for item in table:\n",
    "    print(item)"
   ]
  },
  {
   "cell_type": "code",
   "execution_count": 278,
   "metadata": {},
   "outputs": [
    {
     "data": {
      "text/plain": [
       "'Brazil'"
      ]
     },
     "execution_count": 278,
     "metadata": {},
     "output_type": "execute_result"
    }
   ],
   "source": [
    "table['Neymar']"
   ]
  },
  {
   "cell_type": "code",
   "execution_count": 279,
   "metadata": {},
   "outputs": [
    {
     "name": "stdout",
     "output_type": "stream",
     "text": [
      "None\n"
     ]
    }
   ],
   "source": [
    "print(table._buckets[0])"
   ]
  },
  {
   "cell_type": "code",
   "execution_count": 280,
   "metadata": {},
   "outputs": [],
   "source": [
    "# delete all the values\n",
    "for item in list(table):\n",
    "    del table[item._key]"
   ]
  },
  {
   "cell_type": "code",
   "execution_count": 281,
   "metadata": {},
   "outputs": [
    {
     "data": {
      "text/plain": [
       "(0, 13)"
      ]
     },
     "execution_count": 281,
     "metadata": {},
     "output_type": "execute_result"
    }
   ],
   "source": [
    "len(table), table._size"
   ]
  },
  {
   "cell_type": "code",
   "execution_count": 282,
   "metadata": {},
   "outputs": [],
   "source": [
    "for item in table:\n",
    "    print(item)"
   ]
  }
 ],
 "metadata": {
  "kernelspec": {
   "display_name": "Python 2",
   "language": "python",
   "name": "python2"
  },
  "language_info": {
   "codemirror_mode": {
    "name": "ipython",
    "version": 2
   },
   "file_extension": ".py",
   "mimetype": "text/x-python",
   "name": "python",
   "nbconvert_exporter": "python",
   "pygments_lexer": "ipython2",
   "version": "2.7.13"
  }
 },
 "nbformat": 4,
 "nbformat_minor": 2
}
