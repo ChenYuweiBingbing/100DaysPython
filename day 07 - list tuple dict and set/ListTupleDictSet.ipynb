{
 "cells": [
  {
   "cell_type": "markdown",
   "metadata": {},
   "source": [
    "# List and Tuple"
   ]
  },
  {
   "cell_type": "markdown",
   "metadata": {},
   "source": [
    "## list"
   ]
  },
  {
   "cell_type": "code",
   "execution_count": 1,
   "metadata": {},
   "outputs": [
    {
     "name": "stdout",
     "output_type": "stream",
     "text": [
      "my_list0 = []\n",
      "my_list1 = ['p', 'y', 't', 'h', 'o', 'n']\n",
      "my_list2 = ['Neymar', 'C. Ronaldo', 'Messi', 'Zidane', 'Ramos']\n"
     ]
    }
   ],
   "source": [
    "my_list0 = []\n",
    "my_list1 = list('python')\n",
    "my_list2 = ['Neymar', 'C. Ronaldo', 'Messi', 'Zidane', 'Ramos']\n",
    "\n",
    "print('my_list0 = ' + str(my_list0))\n",
    "print('my_list1 = ' + str(my_list1))\n",
    "print('my_list2 = ' + str(my_list2))"
   ]
  },
  {
   "cell_type": "code",
   "execution_count": 2,
   "metadata": {},
   "outputs": [
    {
     "name": "stdout",
     "output_type": "stream",
     "text": [
      "my_list2[0] = Neymar\n",
      "my_list2[1] = C. Ronaldo\n",
      "my_list2[-1] = Ramos\n",
      "my_list2[0:2] = ['Neymar', 'C. Ronaldo']\n"
     ]
    }
   ],
   "source": [
    "# access of list\n",
    "print('my_list2[0] = ' + my_list2[0])\n",
    "print('my_list2[1] = ' + my_list2[1])\n",
    "print('my_list2[-1] = ' + my_list2[-1])\n",
    "# [0:2] = 0,1 ...but no 2\n",
    "print('my_list2[0:2] = ' + str(my_list2[0:2]))"
   ]
  },
  {
   "cell_type": "code",
   "execution_count": 3,
   "metadata": {},
   "outputs": [
    {
     "name": "stdout",
     "output_type": "stream",
     "text": [
      "['Neymar', 'C. Ronaldo', 'Messi', 'Zidane', 'Ramos', 'Beckham']\n",
      "['Neymar', 'C. Ronaldo', 'Messi', 'Zidane', 'Ramos', 'Beckham', 'Bale', 'Jo Hyeon-woo']\n",
      "['Neymar', 'C. Ronaldo', 'Messi', 'Zidane', 'Ramos', 'Beckham', 'Bale', 'Jo Hyeon-woo', 'Toni Kroos', 'Keisuke Honda']\n",
      "['Neymar', 'C. Ronaldo', 'Messi', 'Zidane', 'Beckham', 'Bale', 'Jo Hyeon-woo', 'Toni Kroos', 'Keisuke Honda']\n",
      "['Neymar', 'C. Ronaldo', 'Mbapp\\xc3\\xa9', 'Messi', 'Zidane', 'Beckham', 'Bale', 'Jo Hyeon-woo', 'Toni Kroos', 'Keisuke Honda']\n",
      "True\n",
      "10\n"
     ]
    }
   ],
   "source": [
    "my_list2.append('Beckham')\n",
    "print(my_list2)\n",
    "\n",
    "my_list2.extend(['Bale', 'Jo Hyeon-woo'])\n",
    "print(my_list2)\n",
    "\n",
    "my_list2+=['Toni Kroos', 'Keisuke Honda']\n",
    "print(my_list2)\n",
    "\n",
    "del my_list2[4]  # delete 'Ramos'\n",
    "print(my_list2)\n",
    "\n",
    "my_list2.insert(2, 'Mbappé')\n",
    "print(my_list2)\n",
    "\n",
    "print('Zidane' in my_list2)\n",
    "\n",
    "print(len(my_list2))"
   ]
  },
  {
   "cell_type": "markdown",
   "metadata": {},
   "source": [
    "## tuple"
   ]
  },
  {
   "cell_type": "code",
   "execution_count": 4,
   "metadata": {},
   "outputs": [
    {
     "name": "stdout",
     "output_type": "stream",
     "text": [
      "(1, 2, 'a')\n",
      "(3, 5, 2)\n",
      "('a', 'b', ('c', 'cc'), ['d', 'ddd', 'dd'], -4.24e+99, (0.9+0.6j))\n",
      "(1,)\n",
      "('Neymar', 'C. Ronaldo', 'Messi')\n",
      "(1, 2, 3, 4, 5, 6)\n",
      "(3, 5, 2)\n",
      "(5, 2, 3)\n",
      "Neymar\n",
      "C. Ronaldo\n",
      "Messi\n"
     ]
    }
   ],
   "source": [
    "t1 = (1, 2, \"a\")\n",
    "t2 = 3, 5, 2\n",
    "t3 = 'a', 'b', ('c', 'cc'), ['d', 'ddd', 'dd'], -4.24e99, 0.9+0.6j,\n",
    "t4 = 1,\n",
    "t5 = tuple(['Neymar', 'C. Ronaldo', 'Messi'])  #turn list to tuple\n",
    "t6 = (1, 2, 3) + (4, 5, 6)\n",
    "\n",
    "print(t1)\n",
    "print(t2)\n",
    "print(t3)\n",
    "print(t4)\n",
    "print(t5)\n",
    "print(t6)\n",
    "\n",
    "x, y, z = t2\n",
    "print(x,y,z)\n",
    "x, y, z = y, z, x\n",
    "print(x,y,z)\n",
    "\n",
    "for elem in t5:\n",
    "    print(elem)"
   ]
  },
  {
   "cell_type": "code",
   "execution_count": 5,
   "metadata": {},
   "outputs": [
    {
     "ename": "SyntaxError",
     "evalue": "invalid syntax (<ipython-input-5-0a35674c0716>, line 3)",
     "output_type": "error",
     "traceback": [
      "\u001b[1;36m  File \u001b[1;32m\"<ipython-input-5-0a35674c0716>\"\u001b[1;36m, line \u001b[1;32m3\u001b[0m\n\u001b[1;33m    a, *b = s\u001b[0m\n\u001b[1;37m       ^\u001b[0m\n\u001b[1;31mSyntaxError\u001b[0m\u001b[1;31m:\u001b[0m invalid syntax\n"
     ]
    }
   ],
   "source": [
    "# For Python3\n",
    "s = (1, 2, 3, 4, 5)\n",
    "a, *b = s\n",
    "print(a)\n",
    "print(b)\n",
    "\n",
    "*a, b, c = s\n",
    "print(a)\n",
    "print(b)\n",
    "print(c)\n",
    "\n",
    "# Error: tuple cannot be assigned and deleted\n",
    "s[1] = 7\n",
    "del s[-1]"
   ]
  },
  {
   "cell_type": "markdown",
   "metadata": {},
   "source": [
    "# Dict and Set"
   ]
  },
  {
   "cell_type": "markdown",
   "metadata": {},
   "source": [
    "## Dict"
   ]
  },
  {
   "cell_type": "code",
   "execution_count": 8,
   "metadata": {},
   "outputs": [
    {
     "name": "stdout",
     "output_type": "stream",
     "text": [
      "{'a': 1, 'c': 3, 'b': 2}\n",
      "['a', 'c', 'b']\n",
      "[1, 3, 2]\n",
      "[('a', 1), ('c', 3), ('b', 2)]\n"
     ]
    }
   ],
   "source": [
    "d1 = {'a': 1, 'b': 2}\n",
    "d1['c'] = 3\n",
    "print(d1)\n",
    "print(d1.keys())\n",
    "print(d1.values())\n",
    "print(d1.items())"
   ]
  },
  {
   "cell_type": "code",
   "execution_count": null,
   "metadata": {},
   "outputs": [],
   "source": []
  }
 ],
 "metadata": {
  "kernelspec": {
   "display_name": "Python 2",
   "language": "python",
   "name": "python2"
  },
  "language_info": {
   "codemirror_mode": {
    "name": "ipython",
    "version": 2
   },
   "file_extension": ".py",
   "mimetype": "text/x-python",
   "name": "python",
   "nbconvert_exporter": "python",
   "pygments_lexer": "ipython2",
   "version": "2.7.13"
  }
 },
 "nbformat": 4,
 "nbformat_minor": 2
}
