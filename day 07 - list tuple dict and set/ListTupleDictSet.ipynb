{
 "cells": [
  {
   "cell_type": "markdown",
   "metadata": {},
   "source": [
    "# List and Tuple"
   ]
  },
  {
   "cell_type": "markdown",
   "metadata": {},
   "source": [
    "## list"
   ]
  },
  {
   "cell_type": "code",
   "execution_count": 1,
   "metadata": {},
   "outputs": [
    {
     "name": "stdout",
     "output_type": "stream",
     "text": [
      "my_list0 = []\n",
      "my_list1 = ['p', 'y', 't', 'h', 'o', 'n']\n",
      "my_list2 = ['Neymar', 'C. Ronaldo', 'Messi', 'Zidane', 'Ramos']\n"
     ]
    }
   ],
   "source": [
    "my_list0 = []\n",
    "my_list1 = list('python')\n",
    "my_list2 = ['Neymar', 'C. Ronaldo', 'Messi', 'Zidane', 'Ramos']\n",
    "\n",
    "print('my_list0 = ' + str(my_list0))\n",
    "print('my_list1 = ' + str(my_list1))\n",
    "print('my_list2 = ' + str(my_list2))"
   ]
  },
  {
   "cell_type": "code",
   "execution_count": 2,
   "metadata": {},
   "outputs": [
    {
     "name": "stdout",
     "output_type": "stream",
     "text": [
      "my_list2[0] = Neymar\n",
      "my_list2[1] = C. Ronaldo\n",
      "my_list2[-1] = Ramos\n",
      "my_list2[0:2] = ['Neymar', 'C. Ronaldo']\n"
     ]
    }
   ],
   "source": [
    "# access of list\n",
    "print('my_list2[0] = ' + my_list2[0])\n",
    "print('my_list2[1] = ' + my_list2[1])\n",
    "print('my_list2[-1] = ' + my_list2[-1])\n",
    "# [0:2] = 0,1 ...but no 2\n",
    "print('my_list2[0:2] = ' + str(my_list2[0:2]))"
   ]
  },
  {
   "cell_type": "code",
   "execution_count": 3,
   "metadata": {},
   "outputs": [
    {
     "name": "stdout",
     "output_type": "stream",
     "text": [
      "['Neymar', 'C. Ronaldo', 'Messi', 'Zidane', 'Ramos', 'Beckham']\n",
      "['Neymar', 'C. Ronaldo', 'Messi', 'Zidane', 'Ramos', 'Beckham', 'Bale', 'Jo Hyeon-woo']\n",
      "['Neymar', 'C. Ronaldo', 'Messi', 'Zidane', 'Ramos', 'Beckham', 'Bale', 'Jo Hyeon-woo', 'Toni Kroos', 'Keisuke Honda']\n",
      "['Neymar', 'C. Ronaldo', 'Messi', 'Zidane', 'Beckham', 'Bale', 'Jo Hyeon-woo', 'Toni Kroos', 'Keisuke Honda']\n",
      "['Neymar', 'C. Ronaldo', 'Mbapp\\xc3\\xa9', 'Messi', 'Zidane', 'Beckham', 'Bale', 'Jo Hyeon-woo', 'Toni Kroos', 'Keisuke Honda']\n",
      "True\n",
      "10\n"
     ]
    }
   ],
   "source": [
    "my_list2.append('Beckham')\n",
    "print(my_list2)\n",
    "\n",
    "my_list2.extend(['Bale', 'Jo Hyeon-woo'])\n",
    "print(my_list2)\n",
    "\n",
    "my_list2+=['Toni Kroos', 'Keisuke Honda']\n",
    "print(my_list2)\n",
    "\n",
    "del my_list2[4]  # delete 'Ramos'\n",
    "print(my_list2)\n",
    "\n",
    "my_list2.insert(2, 'Mbappé')\n",
    "print(my_list2)\n",
    "\n",
    "print('Zidane' in my_list2)\n",
    "\n",
    "print(len(my_list2))"
   ]
  },
  {
   "cell_type": "markdown",
   "metadata": {},
   "source": [
    "## tuple"
   ]
  },
  {
   "cell_type": "code",
   "execution_count": 4,
   "metadata": {},
   "outputs": [
    {
     "name": "stdout",
     "output_type": "stream",
     "text": [
      "(1, 2, 'a')\n",
      "(3, 5, 2)\n",
      "('a', 'b', ('c', 'cc'), ['d', 'ddd', 'dd'], -4.24e+99, (0.9+0.6j))\n",
      "(1,)\n",
      "('Neymar', 'C. Ronaldo', 'Messi')\n",
      "(1, 2, 3, 4, 5, 6)\n",
      "(3, 5, 2)\n",
      "(5, 2, 3)\n",
      "Neymar\n",
      "C. Ronaldo\n",
      "Messi\n"
     ]
    }
   ],
   "source": [
    "t1 = (1, 2, \"a\")\n",
    "t2 = 3, 5, 2\n",
    "t3 = 'a', 'b', ('c', 'cc'), ['d', 'ddd', 'dd'], -4.24e99, 0.9+0.6j,\n",
    "t4 = 1,\n",
    "t5 = tuple(['Neymar', 'C. Ronaldo', 'Messi'])  #turn list to tuple\n",
    "t6 = (1, 2, 3) + (4, 5, 6)\n",
    "\n",
    "print(t1)\n",
    "print(t2)\n",
    "print(t3)\n",
    "print(t4)\n",
    "print(t5)\n",
    "print(t6)\n",
    "\n",
    "x, y, z = t2\n",
    "print(x,y,z)\n",
    "x, y, z = y, z, x\n",
    "print(x,y,z)\n",
    "\n",
    "for elem in t5:\n",
    "    print(elem)"
   ]
  },
  {
   "cell_type": "code",
   "execution_count": 5,
   "metadata": {},
   "outputs": [
    {
     "ename": "SyntaxError",
     "evalue": "invalid syntax (<ipython-input-5-0a35674c0716>, line 3)",
     "output_type": "error",
     "traceback": [
      "\u001b[1;36m  File \u001b[1;32m\"<ipython-input-5-0a35674c0716>\"\u001b[1;36m, line \u001b[1;32m3\u001b[0m\n\u001b[1;33m    a, *b = s\u001b[0m\n\u001b[1;37m       ^\u001b[0m\n\u001b[1;31mSyntaxError\u001b[0m\u001b[1;31m:\u001b[0m invalid syntax\n"
     ]
    }
   ],
   "source": [
    "# For Python3\n",
    "s = (1, 2, 3, 4, 5)\n",
    "a, *b = s\n",
    "print(a)\n",
    "print(b)\n",
    "\n",
    "*a, b, c = s\n",
    "print(a)\n",
    "print(b)\n",
    "print(c)\n",
    "\n",
    "# Error: tuple cannot be assigned and deleted\n",
    "s[1] = 7\n",
    "del s[-1]"
   ]
  },
  {
   "cell_type": "markdown",
   "metadata": {},
   "source": [
    "# Dict and Set"
   ]
  },
  {
   "cell_type": "markdown",
   "metadata": {},
   "source": [
    "## dict"
   ]
  },
  {
   "cell_type": "code",
   "execution_count": 26,
   "metadata": {},
   "outputs": [
    {
     "name": "stdout",
     "output_type": "stream",
     "text": [
      "{'a': 1, 'c': 3, 'b': 2}\n",
      "['a', 'c', 'b']\n",
      "[1, 3, 2]\n",
      "[('a', 1), ('c', 3), ('b', 2)]\n",
      "{'a': 4, 'c': 3, 'b': 2}\n"
     ]
    }
   ],
   "source": [
    "d1 = {'a': 1, 'b': 2}\n",
    "d1['c'] = 3\n",
    "print(d1)\n",
    "print(d1.keys())\n",
    "print(d1.values())\n",
    "print(d1.items())\n",
    "d1['a'] = 4\n",
    "print(d1)"
   ]
  },
  {
   "cell_type": "code",
   "execution_count": 27,
   "metadata": {},
   "outputs": [
    {
     "name": "stdout",
     "output_type": "stream",
     "text": [
      "{'a': 5, 'c': 3, 'b': 6, 'd': 7}\n",
      "True\n",
      "True\n",
      "False\n",
      "{'c': 3, 'b': 6, 'd': 7}\n",
      "3\n",
      "None\n",
      "{'a': None, 'c': 3, 'b': 6, 'd': 7}\n"
     ]
    }
   ],
   "source": [
    "d2 = {'a': 5, 'b': 6, 'd': 7}\n",
    "d1.update(d2)\n",
    "print(d1)\n",
    "\n",
    "print('a' in d1)  # \"in\" is used to find key\n",
    "print(d1.has_key('a'))  # has_key have the same function\n",
    "print(5 in d1)  # cannot be used to find value\n",
    "\n",
    "d1.pop('a')\n",
    "print(d1)\n",
    "\n",
    "print(d1.get('c'))\n",
    "print(d1.get('a'))\n",
    "\n",
    "d1.setdefault('c')\n",
    "d1.setdefault('a')\n",
    "print(d1)"
   ]
  },
  {
   "cell_type": "code",
   "execution_count": 43,
   "metadata": {},
   "outputs": [
    {
     "name": "stdout",
     "output_type": "stream",
     "text": [
      "{'a': None, 'c': 3, 'b': 6, 'd': 7}\n",
      "{}\n",
      "{'a': None, 'c': 3, 'b': 6, 'd': 7}\n",
      "{'y': 10, 'x': 10, 'z': 10}\n",
      "{2.1: 7, 31.7: 9, 59.2: 3}\n",
      "3\n"
     ]
    }
   ],
   "source": [
    "d1 = {'a': None, 'c': 3, 'b': 6, 'd': 7}\n",
    "d3 = d1.copy()\n",
    "print(d3)\n",
    "\n",
    "d1.clear()\n",
    "print(d1)\n",
    "print(d3)\n",
    "\n",
    "d4 = {}\n",
    "print(d4.fromkeys(['x','y','z'], 10))\n",
    "\n",
    "keys = [2.1,31.7,59.2]\n",
    "values = [7,9,3]\n",
    "d5 = dict(zip(keys, values))\n",
    "print(d5)\n",
    "print(len(d5))"
   ]
  },
  {
   "cell_type": "markdown",
   "metadata": {},
   "source": [
    "## set"
   ]
  },
  {
   "cell_type": "code",
   "execution_count": 55,
   "metadata": {},
   "outputs": [
    {
     "name": "stdout",
     "output_type": "stream",
     "text": [
      "set(['Argentina', 'Russia', 'Spain', 'France'])\n",
      "set(['Brazil', 'Japan', 'Russia', 'France'])\n",
      "set(['Russia', 'France'])\n",
      "set(['Russia', 'France'])\n",
      "set(['Brazil', 'France', 'Japan', 'Argentina', 'Russia', 'Spain'])\n",
      "set(['Brazil', 'France', 'Japan', 'Argentina', 'Russia', 'Spain'])\n",
      "set(['Argentina', 'Spain'])\n",
      "set(['Argentina', 'Spain'])\n",
      "set(['Brazil', 'Japan', 'Argentina', 'Spain'])\n",
      "set(['Brazil', 'Japan', 'Argentina', 'Spain'])\n",
      "set(['Argentina', 'Germany', 'Russia', 'Spain', 'France'])\n"
     ]
    }
   ],
   "source": [
    "s1 = {'Argentina', 'France', 'Spain', 'Russia'}\n",
    "s2 = set(['Brazil', 'Japan', 'Russia', 'France'])\n",
    "print(s1)\n",
    "print(s2)\n",
    "\n",
    "print(s1.intersection(s2))\n",
    "print(s1&s2)\n",
    "\n",
    "print(s2.union(s1))\n",
    "print(s1|s2)\n",
    "\n",
    "print(s1.difference(s2))\n",
    "print(s1-s2)\n",
    "\n",
    "print(s1.symmetric_difference(s2))\n",
    "print(s1^s2)\n",
    "\n",
    "s1.add('Germany')\n",
    "print(s1)"
   ]
  },
  {
   "cell_type": "code",
   "execution_count": 60,
   "metadata": {},
   "outputs": [
    {
     "name": "stdout",
     "output_type": "stream",
     "text": [
      "True\n",
      "True\n",
      "True\n",
      "True\n",
      "False\n"
     ]
    }
   ],
   "source": [
    "s2 = set(['Brazil', 'Japan', 'Russia', 'France'])  # create by list\n",
    "s3 = set(('Brazil', 'Japan'))  # create by tuple\n",
    "print(s3.issubset(s2))\n",
    "print(s3<=s2)\n",
    "\n",
    "print(s2.issuperset(s3))\n",
    "print(s2>=s3)\n",
    "\n",
    "s3.add('Korea')\n",
    "print(s2>=s3)"
   ]
  }
 ],
 "metadata": {
  "kernelspec": {
   "display_name": "Python 2",
   "language": "python",
   "name": "python2"
  },
  "language_info": {
   "codemirror_mode": {
    "name": "ipython",
    "version": 2
   },
   "file_extension": ".py",
   "mimetype": "text/x-python",
   "name": "python",
   "nbconvert_exporter": "python",
   "pygments_lexer": "ipython2",
   "version": "2.7.13"
  }
 },
 "nbformat": 4,
 "nbformat_minor": 2
}
