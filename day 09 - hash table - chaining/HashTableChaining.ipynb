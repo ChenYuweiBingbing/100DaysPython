{
 "cells": [
  {
   "cell_type": "markdown",
   "metadata": {},
   "source": [
    "# Hash Table - Chaining"
   ]
  },
  {
   "cell_type": "code",
   "execution_count": 3,
   "metadata": {},
   "outputs": [],
   "source": [
    "import numpy as np"
   ]
  },
  {
   "cell_type": "markdown",
   "metadata": {},
   "source": [
    "## algorithm"
   ]
  },
  {
   "cell_type": "code",
   "execution_count": 4,
   "metadata": {},
   "outputs": [
    {
     "ename": "IndentationError",
     "evalue": "expected an indented block (<ipython-input-4-4144344568c3>, line 15)",
     "output_type": "error",
     "traceback": [
      "\u001b[1;36m  File \u001b[1;32m\"<ipython-input-4-4144344568c3>\"\u001b[1;36m, line \u001b[1;32m15\u001b[0m\n\u001b[1;33m    def _ensure_capacity(self):\u001b[0m\n\u001b[1;37m      ^\u001b[0m\n\u001b[1;31mIndentationError\u001b[0m\u001b[1;31m:\u001b[0m expected an indented block\n"
     ]
    }
   ],
   "source": [
    "class HashTable:\n",
    "\n",
    "    ratio_expand = .9\n",
    "    ratio_shrink = .1\n",
    "    minSize = 12\n",
    "\n",
    "    def __init__(self, size=None):\n",
    "        self._size    = size or self.min_size\n",
    "        self._buckets = [None] * self._size\n",
    "        self._list    = None\n",
    "        self._num     = 0\n",
    "\n",
    "    def _entry(self, key):\n",
    "\n",
    "    def _ensure_capacity(self):\n",
    "\n",
    "    def __len__(self):\n",
    "\n",
    "    def __contains__(self, key):\n",
    "\n",
    "    def __getitem__(self, key):\n",
    "\n",
    "    def __setitem__(self, key, value):\n",
    "\n",
    "    def __delitem__(self, key):\n",
    "\n",
    "    def __iter__(self):\n",
    "        p = self._list\n",
    "        while p:\n",
    "            yield p.key\n",
    "            p = p.entry_next\n",
    "            \n",
    "    def slots(self):\n",
    "        return ''.join(p and 'x' or '-' for p in self._buckets)"
   ]
  },
  {
   "cell_type": "markdown",
   "metadata": {},
   "source": [
    "## run"
   ]
  },
  {
   "cell_type": "code",
   "execution_count": 5,
   "metadata": {},
   "outputs": [
    {
     "ename": "NameError",
     "evalue": "name 'HashTable' is not defined",
     "output_type": "error",
     "traceback": [
      "\u001b[1;31m---------------------------------------------------------------------------\u001b[0m",
      "\u001b[1;31mNameError\u001b[0m                                 Traceback (most recent call last)",
      "\u001b[1;32m<ipython-input-5-31d0e16591c4>\u001b[0m in \u001b[0;36m<module>\u001b[1;34m()\u001b[0m\n\u001b[1;32m----> 1\u001b[1;33m \u001b[0mtable\u001b[0m \u001b[1;33m=\u001b[0m \u001b[0mHashTable\u001b[0m\u001b[1;33m(\u001b[0m\u001b[1;33m)\u001b[0m\u001b[1;33m\u001b[0m\u001b[0m\n\u001b[0m",
      "\u001b[1;31mNameError\u001b[0m: name 'HashTable' is not defined"
     ]
    }
   ],
   "source": [
    "table = HashTable()"
   ]
  },
  {
   "cell_type": "code",
   "execution_count": null,
   "metadata": {
    "collapsed": true
   },
   "outputs": [],
   "source": []
  }
 ],
 "metadata": {
  "kernelspec": {
   "display_name": "Python 2",
   "language": "python",
   "name": "python2"
  },
  "language_info": {
   "codemirror_mode": {
    "name": "ipython",
    "version": 2
   },
   "file_extension": ".py",
   "mimetype": "text/x-python",
   "name": "python",
   "nbconvert_exporter": "python",
   "pygments_lexer": "ipython2",
   "version": "2.7.13"
  }
 },
 "nbformat": 4,
 "nbformat_minor": 2
}
