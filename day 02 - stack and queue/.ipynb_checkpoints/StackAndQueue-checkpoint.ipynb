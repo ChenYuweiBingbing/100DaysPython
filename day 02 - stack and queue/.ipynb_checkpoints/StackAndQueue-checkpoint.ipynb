{
 "cells": [
  {
   "cell_type": "markdown",
   "metadata": {},
   "source": [
    "# Stack"
   ]
  },
  {
   "cell_type": "markdown",
   "metadata": {},
   "source": [
    "## algorithm"
   ]
  },
  {
   "cell_type": "code",
   "execution_count": 1,
   "metadata": {},
   "outputs": [],
   "source": [
    "class Stack:\n",
    "    def __init__(self):\n",
    "        self.stack = []\n",
    "\n",
    "    def is_empty(self):\n",
    "        return len(self.stack) == 0\n",
    "        \n",
    "    def push(self, val):\n",
    "        return self.stack.append(val)\n",
    "        \n",
    "    def pop(self):\n",
    "        if self.is_empty():\n",
    "            return None\n",
    "        else:\n",
    "            return self.stack.pop()\n",
    "            \n",
    "    def peak(self):\n",
    "        if self.is_empty():\n",
    "            return None\n",
    "        else:\n",
    "            return self.stack[-1]\n",
    "    "
   ]
  },
  {
   "cell_type": "markdown",
   "metadata": {},
   "source": [
    "## run"
   ]
  },
  {
   "cell_type": "code",
   "execution_count": 5,
   "metadata": {},
   "outputs": [
    {
     "name": "stdout",
     "output_type": "stream",
     "text": [
      "8\n",
      "4\n",
      "11\n",
      "4\n",
      "7\n",
      "None\n"
     ]
    }
   ],
   "source": [
    "s = Stack()\n",
    "\n",
    "s.push(7)\n",
    "s.push(4)\n",
    "s.push(8)\n",
    "print(s.peak())\n",
    "s.pop()\n",
    "print(s.peak())\n",
    "s.push(11)\n",
    "print(s.peak())\n",
    "s.pop()\n",
    "print(s.peak())\n",
    "s.pop()\n",
    "print(s.peak())\n",
    "s.pop()\n",
    "print(s.peak())"
   ]
  },
  {
   "cell_type": "markdown",
   "metadata": {},
   "source": [
    "# Queue"
   ]
  },
  {
   "cell_type": "markdown",
   "metadata": {},
   "source": [
    "## algorithm"
   ]
  },
  {
   "cell_type": "code",
   "execution_count": 13,
   "metadata": {},
   "outputs": [],
   "source": [
    "class Queue:\n",
    "    def __init__(self):\n",
    "        self.queue = []\n",
    "\n",
    "    def is_empty(self):\n",
    "        return len(self.queue) == 0\n",
    "        \n",
    "    # enqueue\n",
    "    def push(self, val):\n",
    "        return self.queue.insert(0, val)\n",
    "        \n",
    "    # dequeue\n",
    "    def pop(self):\n",
    "        if self.is_empty():\n",
    "            return None\n",
    "        else:\n",
    "            return self.queue.pop()\n",
    "            \n",
    "    def peak_back(self):\n",
    "        if self.is_empty():\n",
    "            return None\n",
    "        else:\n",
    "            return self.queue[-1]\n",
    "    "
   ]
  },
  {
   "cell_type": "markdown",
   "metadata": {},
   "source": [
    "## run"
   ]
  },
  {
   "cell_type": "code",
   "execution_count": 14,
   "metadata": {},
   "outputs": [
    {
     "name": "stdout",
     "output_type": "stream",
     "text": [
      "1\n",
      "2\n",
      "3\n",
      "3\n",
      "4\n",
      "5\n",
      "None\n"
     ]
    }
   ],
   "source": [
    "q = Queue()\n",
    "\n",
    "q.push(1)\n",
    "q.push(2)\n",
    "q.push(3)\n",
    "q.push(4)\n",
    "print(q.peak_back())\n",
    "q.pop()\n",
    "print(q.peak_back())\n",
    "q.pop()\n",
    "print(q.peak_back())\n",
    "\n",
    "q.push(5)\n",
    "print(q.peak_back())\n",
    "q.pop()\n",
    "print(q.peak_back())\n",
    "q.pop()\n",
    "print(q.peak_back())\n",
    "q.pop()\n",
    "print(q.peak_back())\n"
   ]
  }
 ],
 "metadata": {
  "kernelspec": {
   "display_name": "Python 3",
   "language": "python",
   "name": "python3"
  },
  "language_info": {
   "codemirror_mode": {
    "name": "ipython",
    "version": 3
   },
   "file_extension": ".py",
   "mimetype": "text/x-python",
   "name": "python",
   "nbconvert_exporter": "python",
   "pygments_lexer": "ipython3",
   "version": "3.5.2"
  }
 },
 "nbformat": 4,
 "nbformat_minor": 2
}
