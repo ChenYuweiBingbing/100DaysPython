{
 "cells": [
  {
   "cell_type": "markdown",
   "metadata": {},
   "source": [
    "# Tree"
   ]
  },
  {
   "cell_type": "code",
   "execution_count": 137,
   "metadata": {},
   "outputs": [],
   "source": [
    "class Tree:\n",
    "    class TreeNode:\n",
    "        def __init__(self, val):\n",
    "            self.val = val\n",
    "            self.children = []\n",
    "        def getVal(self):\n",
    "            return self.val\n",
    "        def getChildren(self):\n",
    "            return self.children\n",
    "        def getChild(self, num):\n",
    "            if len(self.children) > num and num >= 0:\n",
    "                return self.children[num]\n",
    "            else:\n",
    "                return None\n",
    "        def setVal(self, n_val):\n",
    "            self.val = n_val\n",
    "        def setChildren(self, n_children_list):\n",
    "            self.children = n_children_list\n",
    "        def addChild(self, n_child):\n",
    "            self.children.append(n_child)\n",
    "            \n",
    "    def __init__(self, root=None):\n",
    "        self.root = root\n",
    "        \n",
    "    def _strUtil(root, level=0):\n",
    "        if root != None:\n",
    "            ret = \"    \"*level + str(root.val) + \"\\n\"\n",
    "            for child in root.children:\n",
    "                ret += Tree._strUtil(child, level+1)\n",
    "        else:\n",
    "            ret = \"\"\n",
    "        return ret\n",
    "    def __str__(self):\n",
    "        return \"Tree:\\n\" + Tree._strUtil(self.root, 0)"
   ]
  },
  {
   "cell_type": "code",
   "execution_count": 140,
   "metadata": {},
   "outputs": [
    {
     "name": "stdout",
     "output_type": "stream",
     "text": [
      "Tree:\n",
      "7\n",
      "    5\n",
      "        1\n",
      "        6\n",
      "    3\n",
      "        5\n",
      "        2\n",
      "    9\n",
      "        4\n",
      "        7\n",
      "            1\n",
      "            11\n",
      "        0\n",
      "\n"
     ]
    }
   ],
   "source": [
    "tree = Tree(Tree.TreeNode(7))\n",
    "tree.root.addChild(Tree.TreeNode(5))\n",
    "tree.root.addChild(Tree.TreeNode(3))\n",
    "tree.root.addChild(Tree.TreeNode(9))\n",
    "tree.root.getChild(0).addChild(Tree.TreeNode(1))\n",
    "tree.root.getChild(0).addChild(Tree.TreeNode(6))\n",
    "tree.root.getChild(1).setChildren([Tree.TreeNode(5),Tree.TreeNode(2)])\n",
    "tree.root.getChild(2).setChildren([Tree.TreeNode(4),Tree.TreeNode(7),Tree.TreeNode(0)])\n",
    "tree.root.getChild(2).getChild(1).setChildren([Tree.TreeNode(1),Tree.TreeNode(11)])\n",
    "\n",
    "print(tree)"
   ]
  },
  {
   "cell_type": "markdown",
   "metadata": {},
   "source": [
    "## Binary Search Tree"
   ]
  },
  {
   "cell_type": "markdown",
   "metadata": {},
   "source": [
    "## algorithm"
   ]
  },
  {
   "cell_type": "code",
   "execution_count": 113,
   "metadata": {},
   "outputs": [],
   "source": [
    "class BinarySearchTree:\n",
    "    class TreeNode:\n",
    "        def __init__(self, val, left=None, right=None):\n",
    "            self.val = val\n",
    "            self.left = left\n",
    "            self.right = right\n",
    "        def getVal(self):\n",
    "            return self.val\n",
    "        def getLeft(self):\n",
    "            return self.left\n",
    "        def getRight(self):\n",
    "            return self.right\n",
    "        def setVal(self, n_val):\n",
    "            self.val = n_val\n",
    "        def setLeft(self, n_left):\n",
    "            self.left = n_left\n",
    "        def setRight(self, n_right):\n",
    "            self.right = n_right\n",
    "        def __str__(self):\n",
    "            return \"node(\" + str(self.val) + \",\" + str(self.left) + \",\" + str(self.right) + \")\"\n",
    "        # Tree's iterator: we inorder traverse all the nodes\n",
    "        # , yielding next larger value of the tree\n",
    "        def __iter__(self):\n",
    "            if self.left != None:\n",
    "                for left_child in self.left:\n",
    "                    yield left_child\n",
    "            yield self.val\n",
    "            if self.right != None:\n",
    "                for right_child in self.right:\n",
    "                    yield right_child\n",
    "            \n",
    "            \n",
    "    def __init__(self, root=None):\n",
    "        self.root = root\n",
    "    def insert(self, val):\n",
    "        self.root = BinarySearchTree._insert(self.root, val)\n",
    "        \n",
    "    # hidden function, recursion\n",
    "    def _insert(node, val):\n",
    "        if node == None:\n",
    "            return BinarySearchTree.TreeNode(val)\n",
    "        \n",
    "        if val > node.getVal():\n",
    "            node.setRight(BinarySearchTree._insert(node.getRight(), val))\n",
    "        else:\n",
    "            node.setLeft(BinarySearchTree._insert(node.getLeft(), val))\n",
    "            \n",
    "        return node\n",
    "    \n",
    "    def __iter__(self):\n",
    "        if self.root == None:\n",
    "            return iter([])\n",
    "        else:\n",
    "            return iter(self.root)\n",
    "\n",
    "    # Inorder traversal\n",
    "    # Left -> Root -> Right\n",
    "    def inorderTraversal(self, root):\n",
    "        res = []\n",
    "        if root:\n",
    "            res = self.inorderTraversal(root.getLeft())\n",
    "            res.append(root.getVal())\n",
    "            res += self.inorderTraversal(root.getRight())\n",
    "        return res\n",
    "    # Preorder traversal\n",
    "    # Root -> Left ->Right\n",
    "    def preorderTraversal(self, root):\n",
    "        res = []\n",
    "        if root:\n",
    "            res.append(root.val)\n",
    "            res = res + self.preorderTraversal(root.left)\n",
    "            res = res + self.preorderTraversal(root.right)\n",
    "        return res\n",
    "    # Postorder traversal\n",
    "    # Left ->Right -> Root\n",
    "    def postorderTraversal(self, root):\n",
    "        res = []\n",
    "        if root:\n",
    "            res = self.postorderTraversal(root.left)\n",
    "            res = res + self.postorderTraversal(root.right)\n",
    "            res.append(root.val)\n",
    "        return res\n",
    "    # inorder print\n",
    "    def _strUtil(root, level=0):\n",
    "        if root != None:\n",
    "            ret = BinarySearchTree._strUtil(root.left, level+1)\n",
    "            ret += \"    \"*level + str(root.val) + \"\\n\"\n",
    "            ret += BinarySearchTree._strUtil(root.right, level+1)\n",
    "        else:\n",
    "            ret = \"\"\n",
    "        return ret\n",
    "    def __str__(self):\n",
    "        return \"BinarySearchTree:\\n\" + BinarySearchTree._strUtil(self.root, 0)\n",
    "    "
   ]
  },
  {
   "cell_type": "markdown",
   "metadata": {},
   "source": [
    "## run"
   ]
  },
  {
   "cell_type": "code",
   "execution_count": 115,
   "metadata": {},
   "outputs": [
    {
     "name": "stdout",
     "output_type": "stream",
     "text": [
      "BinarySearchTree:\n",
      "        0\n",
      "    1\n",
      "        2\n",
      "            3\n",
      "4\n",
      "    5\n",
      "            6\n",
      "        7\n",
      "                8\n",
      "            9\n",
      "\n",
      "[0, 1, 2, 3, 4, 5, 6, 7, 8, 9]\n",
      "[4, 1, 0, 2, 3, 5, 7, 6, 9, 8]\n",
      "[0, 3, 2, 1, 6, 8, 9, 7, 5, 4]\n",
      "0\n",
      "1\n",
      "2\n",
      "3\n",
      "4\n",
      "5\n",
      "6\n",
      "7\n",
      "8\n",
      "9\n"
     ]
    }
   ],
   "source": [
    "lst = [4,5,7,1,6,2,9,0,3,8]\n",
    "    \n",
    "tree = BinarySearchTree()\n",
    "    \n",
    "for x in lst:\n",
    "    tree.insert(x)\n",
    "\n",
    "print(tree)\n",
    "\n",
    "print(tree.inorderTraversal(tree.root))\n",
    "print(tree.preorderTraversal(tree.root))\n",
    "print(tree.postorderTraversal(tree.root))\n",
    "\n",
    "for x in tree:\n",
    "    print(x)"
   ]
  },
  {
   "cell_type": "markdown",
   "metadata": {},
   "source": []
  }
 ],
 "metadata": {
  "kernelspec": {
   "display_name": "Python 3",
   "language": "python",
   "name": "python3"
  },
  "language_info": {
   "codemirror_mode": {
    "name": "ipython",
    "version": 3
   },
   "file_extension": ".py",
   "mimetype": "text/x-python",
   "name": "python",
   "nbconvert_exporter": "python",
   "pygments_lexer": "ipython3",
   "version": "3.5.2"
  }
 },
 "nbformat": 4,
 "nbformat_minor": 2
}
