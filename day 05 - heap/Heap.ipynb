{
 "cells": [
  {
   "cell_type": "markdown",
   "metadata": {},
   "source": [
    "# Binary Search Tree"
   ]
  },
  {
   "cell_type": "markdown",
   "metadata": {},
   "source": [
    "## algorithm"
   ]
  },
  {
   "cell_type": "code",
   "execution_count": 17,
   "metadata": {},
   "outputs": [],
   "source": [
    "from enum import Enum\n",
    "\n",
    "class HeapType(Enum):\n",
    "    maxheap = 1\n",
    "    minheap = 2\n",
    "\n",
    "class BinaryHeap:\n",
    "    def __init__(self, heapType=HeapType.maxheap):\n",
    "        self._heapType = heapType\n",
    "        self._heapList = [0]\n",
    "        if heapType == HeapType.maxheap:\n",
    "            self._comparator = lambda x, y: x > y\n",
    "        else:\n",
    "            self._comparator = lambda x, y: x < y\n",
    "    def _currentSize(self):\n",
    "        return len(self._heapList)-1\n",
    "    \n",
    "    def _swap(self, i1, i2):\n",
    "        self._heapList[i1], self._heapList[i2] = self._heapList[i2], self._heapList[i1]\n",
    "    \n",
    "    def percUp(self, i):\n",
    "        while i // 2 > 0:\n",
    "            if self._comparator(self._heapList[i], self._heapList[i // 2]):\n",
    "                self._swap(i // 2, i)\n",
    "            i = i // 2\n",
    "            \n",
    "    def push(self, k):\n",
    "        self._heapList.append(k)\n",
    "        self.percUp(self._currentSize())\n",
    "        \n",
    "    def _betterChild(self, i):\n",
    "        if i*2+1 > self._currentSize():\n",
    "            return i*2\n",
    "        else:\n",
    "            if self._comparator(self._heapList[i*2], self._heapList[i*2+1]):\n",
    "                return i*2\n",
    "            else:\n",
    "                return i*2+1\n",
    "            \n",
    "    def percDown(self, i):\n",
    "        bc = self._betterChild(i)\n",
    "        while i*2 <= self._currentSize():\n",
    "            if self._comparator(self._heapList[i], self._heapList[bc]):\n",
    "                self._swap(i, bc)\n",
    "            i = bc\n",
    "    \n",
    "    def pop(self):\n",
    "        pop_data = self._heapList[1]\n",
    "        self._heapList[1] = self._heapList[self._currentSize()]\n",
    "        self._heapList.pop()\n",
    "        self.percDown(1)\n",
    "        return pop_data\n",
    "    \n",
    "    def peek(self):\n",
    "        return self._heapList[1]\n",
    "        \n",
    "    def buildHeap(self, initList):\n",
    "        self._heapList = [0] + initList[:]\n",
    "        for i in range(len(initList)//2, -1, 0):\n",
    "            self.percDown(i)\n",
    "    "
   ]
  },
  {
   "cell_type": "markdown",
   "metadata": {},
   "source": [
    "## run"
   ]
  },
  {
   "cell_type": "code",
   "execution_count": 18,
   "metadata": {},
   "outputs": [
    {
     "name": "stdout",
     "output_type": "stream",
     "text": [
      "14\n",
      "14\n",
      "4\n",
      "9\n"
     ]
    }
   ],
   "source": [
    "bh = BinaryHeap(HeapType.maxheap)\n",
    "bh.push(10)\n",
    "bh.push(4)\n",
    "bh.push(9)\n",
    "bh.push(14)\n",
    "print(bh.peek())\n",
    "print(bh.pop())\n",
    "print(bh.pop())\n",
    "print(bh.pop())\n",
    "\n"
   ]
  },
  {
   "cell_type": "code",
   "execution_count": null,
   "metadata": {},
   "outputs": [],
   "source": []
  }
 ],
 "metadata": {
  "kernelspec": {
   "display_name": "Python 3",
   "language": "python",
   "name": "python3"
  },
  "language_info": {
   "codemirror_mode": {
    "name": "ipython",
    "version": 3
   },
   "file_extension": ".py",
   "mimetype": "text/x-python",
   "name": "python",
   "nbconvert_exporter": "python",
   "pygments_lexer": "ipython3",
   "version": "3.5.3"
  }
 },
 "nbformat": 4,
 "nbformat_minor": 2
}
