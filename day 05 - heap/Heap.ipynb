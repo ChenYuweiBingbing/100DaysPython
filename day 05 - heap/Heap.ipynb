{
 "cells": [
  {
   "cell_type": "markdown",
   "metadata": {},
   "source": [
    "# Binary Heap"
   ]
  },
  {
   "cell_type": "markdown",
   "metadata": {},
   "source": [
    "## algorithm"
   ]
  },
  {
   "cell_type": "code",
   "execution_count": 2,
   "metadata": {},
   "outputs": [],
   "source": [
    "from enum import Enum\n",
    "\n",
    "class HeapType(Enum):\n",
    "    maxheap = 1\n",
    "    minheap = 2\n",
    "\n",
    "class BinaryHeap:\n",
    "    def __init__(self, heapType=HeapType.maxheap):\n",
    "        self._heapType = heapType\n",
    "        self._heapList = [0]\n",
    "        if heapType == HeapType.maxheap:\n",
    "            self._comparator = lambda x, y: x > y\n",
    "        else:\n",
    "            self._comparator = lambda x, y: x < y\n",
    "    def _currentSize(self):\n",
    "        return len(self._heapList)-1\n",
    "    \n",
    "    def _swap(self, i1, i2):\n",
    "        self._heapList[i1], self._heapList[i2] = self._heapList[i2], self._heapList[i1]\n",
    "    \n",
    "    def percUp(self, i):\n",
    "        while i // 2 > 0:\n",
    "            if self._comparator(self._heapList[i], self._heapList[i // 2]):\n",
    "                self._swap(i // 2, i)\n",
    "            i = i // 2\n",
    "            \n",
    "    def push(self, k):\n",
    "        self._heapList.append(k)\n",
    "        self.percUp(self._currentSize())\n",
    "        \n",
    "    def _betterChild(self, i):\n",
    "        if i*2+1 > self._currentSize():\n",
    "            return i*2\n",
    "        else:\n",
    "            if self._comparator(self._heapList[i*2], self._heapList[i*2+1]):\n",
    "                return i*2\n",
    "            else:\n",
    "                return i*2+1\n",
    "    \n",
    "    def percDown(self, i):\n",
    "        while i*2 <= self._currentSize():\n",
    "            bc = self._betterChild(i)\n",
    "            if self._comparator(self._heapList[bc], self._heapList[i]):\n",
    "                self._swap(i, bc)\n",
    "            i = bc\n",
    "    \n",
    "    def pop(self):\n",
    "        if self._currentSize() == 0:\n",
    "            return None\n",
    "        pop_data = self._heapList[1]\n",
    "        self._heapList[1] = self._heapList[-1]  #self._currentSize()\n",
    "        self._heapList.pop()\n",
    "        self.percDown(1)\n",
    "        return pop_data\n",
    "    \n",
    "    def peek(self):\n",
    "        if self._currentSize() == 0:\n",
    "            return None\n",
    "        return self._heapList[1]\n",
    "        \n",
    "    def buildHeap(self, initList):\n",
    "        self._heapList = [0] + initList[:]\n",
    "        for i in range(len(initList)//2, 0, -1):\n",
    "            self.percDown(i)\n",
    "            \n",
    "    def __repr__(self):\n",
    "        return \" \".join(str(x) for x in self._heapList)\n",
    "    \n",
    "    def __str__(self):\n",
    "        ret = \"\"\n",
    "        twoPower = 2\n",
    "        for i in range(1,len(self._heapList)):\n",
    "            ret+=(str(self._heapList[i])+' ')\n",
    "            if i == twoPower-1:\n",
    "                ret += '\\n'\n",
    "                twoPower *= 2\n",
    "        return ret\n",
    "    "
   ]
  },
  {
   "cell_type": "markdown",
   "metadata": {},
   "source": [
    "## run"
   ]
  },
  {
   "cell_type": "code",
   "execution_count": 3,
   "metadata": {},
   "outputs": [
    {
     "name": "stdout",
     "output_type": "stream",
     "text": [
      "1 \n",
      "7 4 \n",
      "10 45 20 9 \n",
      "14 \n",
      "==========\n",
      "1\n",
      "4\n",
      "7\n",
      "9\n",
      "10\n",
      "14\n",
      "20\n",
      "45\n",
      "None\n",
      "==========\n",
      "42 \n",
      "23 20 \n",
      "15 3 12 1 \n",
      "5 7 \n"
     ]
    }
   ],
   "source": [
    "bh1 = BinaryHeap(HeapType.minheap)\n",
    "bh1.push(10)\n",
    "bh1.push(4)\n",
    "bh1.push(9)\n",
    "bh1.push(14)\n",
    "bh1.push(45)\n",
    "bh1.push(20)\n",
    "bh1.push(1)\n",
    "bh1.push(7)\n",
    "\n",
    "print(bh1)\n",
    "print(\"==========\")\n",
    "print(bh1.pop())\n",
    "print(bh1.pop())\n",
    "print(bh1.pop())\n",
    "print(bh1.pop())\n",
    "print(bh1.pop())\n",
    "print(bh1.pop())\n",
    "print(bh1.pop())\n",
    "print(bh1.pop())\n",
    "print(bh1.pop())\n",
    "\n",
    "print(\"==========\")\n",
    "bh2 = BinaryHeap(HeapType.maxheap)\n",
    "bh2.buildHeap([5,3,12,7,42,20,1,15,23])\n",
    "print(bh2)\n"
   ]
  },
  {
   "cell_type": "markdown",
   "metadata": {},
   "source": [
    "## Using Python Library (heapq)"
   ]
  },
  {
   "cell_type": "code",
   "execution_count": 4,
   "metadata": {},
   "outputs": [
    {
     "name": "stdout",
     "output_type": "stream",
     "text": [
      "data:  [7, 5, 1, 9, 8, 6, 11, 3]\n",
      "heap:  [1, 3, 5, 7, 8, 6, 11, 9]\n",
      "data(heapify):  [1, 3, 6, 5, 8, 7, 11, 9]\n",
      "sorted data:  [1, 3, 5, 6, 7, 8, 9, 11]\n"
     ]
    }
   ],
   "source": [
    "import heapq\n",
    "\n",
    "def heapsort(iterable):\n",
    "    h = []\n",
    "    for value in iterable:\n",
    "        heapq.heappush(h, value)\n",
    "    return [heapq.heappop(h) for i in range(len(h))]\n",
    "\n",
    "data = [7,5,1,9,8,6,11,3]\n",
    "heap = []\n",
    "print 'data: ', data\n",
    "\n",
    "for n in data:\n",
    "    heapq.heappush(heap, n)\n",
    "print 'heap: ', heap\n",
    "\n",
    "heapq.heapify(data)\n",
    "print 'data(heapify): ', data\n",
    "\n",
    "data = [7,5,1,9,8,6,11,3]\n",
    "print 'sorted data: ', heapsort(data)"
   ]
  }
 ],
 "metadata": {
  "kernelspec": {
   "display_name": "Python 2",
   "language": "python",
   "name": "python2"
  },
  "language_info": {
   "codemirror_mode": {
    "name": "ipython",
    "version": 2
   },
   "file_extension": ".py",
   "mimetype": "text/x-python",
   "name": "python",
   "nbconvert_exporter": "python",
   "pygments_lexer": "ipython2",
   "version": "2.7.13"
  }
 },
 "nbformat": 4,
 "nbformat_minor": 2
}
