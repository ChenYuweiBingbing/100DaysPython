{
 "cells": [
  {
   "cell_type": "markdown",
   "metadata": {},
   "source": [
    "# Binary Search Tree"
   ]
  },
  {
   "cell_type": "markdown",
   "metadata": {},
   "source": [
    "## algorithm"
   ]
  },
  {
   "cell_type": "code",
   "execution_count": 1,
   "metadata": {},
   "outputs": [
    {
     "ename": "IndentationError",
     "evalue": "expected an indented block (<ipython-input-1-d0268da5030b>, line 26)",
     "output_type": "error",
     "traceback": [
      "\u001b[1;36m  File \u001b[1;32m\"<ipython-input-1-d0268da5030b>\"\u001b[1;36m, line \u001b[1;32m26\u001b[0m\n\u001b[1;33m    def __str__(self):\u001b[0m\n\u001b[1;37m      ^\u001b[0m\n\u001b[1;31mIndentationError\u001b[0m\u001b[1;31m:\u001b[0m expected an indented block\n"
     ]
    }
   ],
   "source": [
    "from enum import Enum\n",
    "\n",
    "class HeapType(Enum):\n",
    "    maxheap = 1\n",
    "    minheap = 2\n",
    "\n",
    "class Heap:\n",
    "    def __init__(self, initData=None, heapType=HeapType.maxheap):\n",
    "        self._heapType = heapType\n",
    "        if heap_type == HeapType.maxheap:\n",
    "            self.comparator = lambda x, y: x > y\n",
    "        else:\n",
    "            self.comparator = lambda x, y: x < y\n",
    "            \n",
    "    def _swap(self, i1, i2):\n",
    "        self.data[i1], self.data[i2] = self.data[i2], self.data[i1]\n",
    "\n",
    "    def build_heap(self, initiaData):\n",
    "        for i in initiaData:\n",
    "            self.data.prepend(i)\n",
    "            self.heap_down(0)\n",
    "            \n",
    "            \n",
    "    def __iter__(self):\n",
    "\n",
    "    def __str__(self):\n",
    "        \n",
    "    "
   ]
  },
  {
   "cell_type": "markdown",
   "metadata": {},
   "source": [
    "## run"
   ]
  },
  {
   "cell_type": "code",
   "execution_count": null,
   "metadata": {},
   "outputs": [],
   "source": []
  },
  {
   "cell_type": "code",
   "execution_count": null,
   "metadata": {},
   "outputs": [],
   "source": []
  }
 ],
 "metadata": {
  "kernelspec": {
   "display_name": "Python 3",
   "language": "python",
   "name": "python3"
  },
  "language_info": {
   "codemirror_mode": {
    "name": "ipython",
    "version": 3
   },
   "file_extension": ".py",
   "mimetype": "text/x-python",
   "name": "python",
   "nbconvert_exporter": "python",
   "pygments_lexer": "ipython3",
   "version": "3.5.2"
  }
 },
 "nbformat": 4,
 "nbformat_minor": 2
}
