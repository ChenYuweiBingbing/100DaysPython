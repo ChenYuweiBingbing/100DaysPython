{
 "cells": [
  {
   "cell_type": "markdown",
   "metadata": {},
   "source": [
    "# Word Break 1"
   ]
  },
  {
   "cell_type": "markdown",
   "metadata": {},
   "source": [
    "## Problem Description"
   ]
  },
  {
   "cell_type": "markdown",
   "metadata": {},
   "source": [
    "Given a non-empty string s and a dictionary wordDict containing a list of non-empty words, determine if s can be segmented into a space-separated sequence of one or more dictionary words.\n",
    "\n",
    "Note:\n",
    "\n",
    "- The same word in the dictionary may be reused multiple times in the segmentation.\n",
    "- You may assume the dictionary does not contain duplicate words.\n",
    "\n",
    "```sh\n",
    "Input: s = \"applepenapple\", wordDict = [\"apple\", \"pen\"]\n",
    "Output: true\n",
    "Explanation: Return true because \"applepenapple\" can be segmented as \"apple pen apple\".\n",
    "( Note that you are allowed to reuse a dictionary word. )\n",
    "```\n",
    "\n",
    "```sh\n",
    "Input: s = \"catsandog\", wordDict = [\"cats\", \"dog\", \"sand\", \"and\", \"cat\"]\n",
    "Output: false\n",
    "```"
   ]
  },
  {
   "cell_type": "markdown",
   "metadata": {},
   "source": [
    "## Solution"
   ]
  },
  {
   "cell_type": "code",
   "execution_count": 1,
   "metadata": {},
   "outputs": [],
   "source": [
    "class WB1_Solution(object):\n",
    "    def wordBreak(self, s, wordDict):\n",
    "        \"\"\"\n",
    "        :type s: str\n",
    "        :type wordDict: List[str]\n",
    "        :rtype: boolean\n",
    "        \"\"\"\n",
    "        dp = [False] * len(s)\n",
    "        for i in range(len(s)):\n",
    "            for w in wordDict:\n",
    "                if w == s[i-len(w)+1:i+1] and ( i-len(w)+1==0 or dp[i-len(w)] ):\n",
    "                    dp[i] = True\n",
    "        return dp[-1]"
   ]
  },
  {
   "cell_type": "code",
   "execution_count": 2,
   "metadata": {},
   "outputs": [
    {
     "name": "stdout",
     "output_type": "stream",
     "text": [
      "True\n",
      "False\n"
     ]
    }
   ],
   "source": [
    "solver1 = WB1_Solution()\n",
    "\n",
    "s = 'applepenapple'\n",
    "words = [\"apple\", \"pen\"]\n",
    "print(solver1.wordBreak(s, words))\n",
    "\n",
    "s = 'catsandog'\n",
    "words = [\"cats\", \"dog\", \"sand\", \"and\", \"cat\"]\n",
    "print(solver1.wordBreak(s, words))"
   ]
  },
  {
   "cell_type": "code",
   "execution_count": 4,
   "metadata": {},
   "outputs": [],
   "source": [
    "class WB1_Solution_Hash(object):\n",
    "    def wordBreak(self, s, wordDict):\n",
    "        \"\"\"\n",
    "        :type s: str\n",
    "        :type wordDict: List[str]\n",
    "        :rtype: bool\n",
    "        \"\"\"\n",
    "        hashDict = set(wordDict)\n",
    "        dp = [False] * len(s)    \n",
    "        for i in range(len(s)):\n",
    "            for j in range(i+1):\n",
    "                if s[j:i+1] in hashDict and ( j==0 or dp[j-1] ):\n",
    "                    dp[i] = True\n",
    "        return dp[-1]"
   ]
  },
  {
   "cell_type": "code",
   "execution_count": 6,
   "metadata": {},
   "outputs": [
    {
     "name": "stdout",
     "output_type": "stream",
     "text": [
      "True\n",
      "False\n"
     ]
    }
   ],
   "source": [
    "solver1 = WB1_Solution_Hash()\n",
    "\n",
    "s = 'applepenapple'\n",
    "words = [\"apple\", \"pen\"]\n",
    "print(solver1.wordBreak(s, words))\n",
    "\n",
    "s = 'catsandog'\n",
    "words = [\"cats\", \"dog\", \"sand\", \"and\", \"cat\"]\n",
    "print(solver1.wordBreak(s, words))"
   ]
  },
  {
   "cell_type": "markdown",
   "metadata": {},
   "source": [
    "# Word Break 2"
   ]
  },
  {
   "cell_type": "markdown",
   "metadata": {},
   "source": [
    "## Problem Description"
   ]
  },
  {
   "cell_type": "markdown",
   "metadata": {},
   "source": [
    "Given a non-empty string s and a dictionary wordDict containing a list of non-empty words, add spaces in s to construct a sentence where each word is a valid dictionary word. Return all such possible sentences.\n",
    "\n",
    "Note:\n",
    "\n",
    "- The same word in the dictionary may be reused multiple times in the segmentation.\n",
    "- You may assume the dictionary does not contain duplicate words.\n",
    "\n",
    "```sh\n",
    "Input:\n",
    "s = \"catsanddog\"\n",
    "wordDict = [\"cat\", \"cats\", \"and\", \"sand\", \"dog\"]\n",
    "Output:\n",
    "[\n",
    "  \"cats and dog\",\n",
    "  \"cat sand dog\"\n",
    "]\n",
    "```\n",
    "\n",
    "```sh\n",
    "Input:\n",
    "s = \"pineapplepenapple\"\n",
    "wordDict = [\"apple\", \"pen\", \"applepen\", \"pine\", \"pineapple\"]\n",
    "Output:\n",
    "[\n",
    "  \"pine apple pen apple\",\n",
    "  \"pineapple pen apple\",\n",
    "  \"pine applepen apple\"\n",
    "]\n",
    "Explanation: Note that you are allowed to reuse a dictionary word.\n",
    "```"
   ]
  },
  {
   "cell_type": "code",
   "execution_count": 28,
   "metadata": {},
   "outputs": [],
   "source": [
    "class WB2_Solution(object):\n",
    "    def wordBreak(self, s, wordDict):\n",
    "        \"\"\"\n",
    "        :type s: str\n",
    "        :type wordDict: List[str]\n",
    "        :rtype: List[str]\n",
    "        \"\"\"\n",
    "        dp = [[\"\"]] * len(s)\n",
    "        for i in range(len(s)):\n",
    "            str_list = []\n",
    "            for w in wordDict:\n",
    "                if w == s[i-len(w)+1:i+1] and ( i-len(w)+1==0 or dp[i-len(w)] is not [[\"\"]] ):\n",
    "                    for l in dp[i-len(w)]:\n",
    "                        # append new substring to all str_list\n",
    "                        str_list.append(l + (\"\" if (l==\"\") else \" \") +  s[i-len(w)+1:i+1])\n",
    "            dp[i] = str_list\n",
    "        return dp[-1]"
   ]
  },
  {
   "cell_type": "code",
   "execution_count": 30,
   "metadata": {},
   "outputs": [
    {
     "name": "stdout",
     "output_type": "stream",
     "text": [
      "['pine apple pen apple', 'pineapple pen apple', 'pine applepen apple']\n",
      "['cats and dog', 'cat sand dog']\n"
     ]
    }
   ],
   "source": [
    "solver2 = WB2_Solution()\n",
    "\n",
    "s = 'pineapplepenapple'\n",
    "words = [\"apple\", \"pen\", \"applepen\", \"pine\", \"pineapple\"]\n",
    "print(solver2.wordBreak(s, words))\n",
    "\n",
    "s = 'catsanddog'\n",
    "words = [\"cat\", \"cats\", \"and\", \"sand\", \"dog\"]\n",
    "print(solver2.wordBreak(s, words))"
   ]
  },
  {
   "cell_type": "code",
   "execution_count": null,
   "metadata": {},
   "outputs": [],
   "source": []
  }
 ],
 "metadata": {
  "kernelspec": {
   "display_name": "Python 3",
   "language": "python",
   "name": "python3"
  },
  "language_info": {
   "codemirror_mode": {
    "name": "ipython",
    "version": 3
   },
   "file_extension": ".py",
   "mimetype": "text/x-python",
   "name": "python",
   "nbconvert_exporter": "python",
   "pygments_lexer": "ipython3",
   "version": "3.5.3"
  }
 },
 "nbformat": 4,
 "nbformat_minor": 2
}
