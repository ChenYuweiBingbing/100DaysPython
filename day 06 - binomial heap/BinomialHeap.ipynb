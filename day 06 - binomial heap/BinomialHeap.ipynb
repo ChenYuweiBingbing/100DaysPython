{
 "cells": [
  {
   "cell_type": "markdown",
   "metadata": {},
   "source": [
    "# Binomial Heap"
   ]
  },
  {
   "cell_type": "markdown",
   "metadata": {},
   "source": [
    "## algorithm"
   ]
  },
  {
   "cell_type": "code",
   "execution_count": 1,
   "metadata": {},
   "outputs": [],
   "source": [
    "class BinomialTree:\n",
    "    def __init__(self, key):\n",
    "        self._key = key\n",
    "        self._children = []\n",
    "        self._order = 0\n",
    " \n",
    "    def addTree(self, t):\n",
    "        self._children.append(t)\n",
    "        self._order = self._order + 1        \n",
    "    \n",
    "class BinomialHeap:\n",
    "    def __init__(self):\n",
    "        self._trees = []\n",
    "        \n",
    "    def get_min(self):\n",
    "        if len(self._trees) == 0:\n",
    "            return None\n",
    "        minNode = self._trees[0]\n",
    "        for tree in self._trees:\n",
    "            if tree._key < minNode._key:\n",
    "                minNode = tree\n",
    "                \n",
    "        return minNode._key\n",
    "    \n",
    "    def extract_min(self):\n",
    "        if len(self._trees) == 0:\n",
    "            return None\n",
    "        minNode = self._trees[0]\n",
    "        for tree in self._trees:\n",
    "            if tree._key < minNode._key:\n",
    "                minNode = tree\n",
    "        sub_tree = BinomialHeap()\n",
    "        sub_tree._trees = minNode._children\n",
    "        self._trees.remove(minNode)\n",
    "        self.merge(sub_tree)\n",
    "        \n",
    "        return minNode._key\n",
    "    \n",
    "    def insert(self, key):\n",
    "        newTree = BinomialHeap()\n",
    "        newTree._trees.append(BinomialTree(key))\n",
    "        self.merge(newTree)\n",
    "    \n",
    "    def _combineRoots(self, bh):\n",
    "        self._trees.extend(bh._trees)\n",
    "        self._trees.sort(key=lambda tree: tree._order)\n",
    "        \n",
    "    def _swap(self, idx1, idx2):\n",
    "        self._trees[idx1], self._trees[idx2] = self._trees[idx2], self._trees[idx1]\n",
    "        \n",
    "    def merge(self, bh):\n",
    "        self._combineRoots(bh)\n",
    "        if len(self._trees) == 0:\n",
    "            return\n",
    "        i = 0\n",
    "        while i < len(self._trees)-1:\n",
    "            cur = self._trees[i]\n",
    "            nex = self._trees[i+1]\n",
    "            if cur._order == nex._order:\n",
    "                if cur._key < nex._key:\n",
    "                    cur.addTree(nex)\n",
    "                    del self._trees[i+1]\n",
    "                else cur._key > nex._key:\n",
    "                    nex.addTree(cur)\n",
    "                    del self._trees[i]\n",
    "            elif cur._order > nex._order:\n",
    "                self._swap(i, i+1)\n",
    "            else:\n",
    "                i = i + 1\n",
    "\n",
    "    def __str__(self):\n",
    "        ret = \"\"\n",
    "        for tree in self._trees:\n",
    "            ret += 'key: '+str(tree._key).center(4)+', '\n",
    "            ret += 'num of children: '+str(len(tree._children))+', '\n",
    "            ret += 'order: '+str(tree._order)+'\\n'\n",
    "            \n",
    "        return ret\n",
    "    "
   ]
  },
  {
   "cell_type": "markdown",
   "metadata": {},
   "source": [
    "## run"
   ]
  },
  {
   "cell_type": "code",
   "execution_count": 2,
   "metadata": {},
   "outputs": [
    {
     "name": "stdout",
     "output_type": "stream",
     "text": [
      "key:  6  , num of children: 1, order: 1\n",
      "key:  1  , num of children: 3, order: 3\n",
      "\n",
      "==========\n",
      "1\n",
      "4\n",
      "6\n",
      "7\n",
      "9\n",
      "10\n",
      "11\n",
      "14\n",
      "20\n",
      "45\n",
      "None\n"
     ]
    }
   ],
   "source": [
    "bh1 = BinomialHeap()\n",
    "bh1.insert(10)\n",
    "bh1.insert(4)\n",
    "bh1.insert(9)\n",
    "bh1.insert(14)\n",
    "bh1.insert(45)\n",
    "bh1.insert(20)\n",
    "bh1.insert(1)\n",
    "bh1.insert(7)\n",
    "bh1.insert(11)\n",
    "bh1.insert(6)\n",
    "\n",
    "print(bh1)\n",
    "print(\"==========\")\n",
    "print(bh1.extract_min())\n",
    "print(bh1.extract_min())\n",
    "print(bh1.extract_min())\n",
    "print(bh1.extract_min())\n",
    "print(bh1.extract_min())\n",
    "print(bh1.extract_min())\n",
    "print(bh1.extract_min())\n",
    "print(bh1.extract_min())\n",
    "print(bh1.extract_min())\n",
    "print(bh1.extract_min())\n",
    "print(bh1.extract_min())\n"
   ]
  }
 ],
 "metadata": {
  "kernelspec": {
   "display_name": "Python 2",
   "language": "python",
   "name": "python2"
  },
  "language_info": {
   "codemirror_mode": {
    "name": "ipython",
    "version": 2
   },
   "file_extension": ".py",
   "mimetype": "text/x-python",
   "name": "python",
   "nbconvert_exporter": "python",
   "pygments_lexer": "ipython2",
   "version": "2.7.13"
  }
 },
 "nbformat": 4,
 "nbformat_minor": 2
}
