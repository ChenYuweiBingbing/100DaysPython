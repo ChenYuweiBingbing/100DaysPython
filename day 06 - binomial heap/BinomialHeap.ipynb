{
 "cells": [
  {
   "cell_type": "markdown",
   "metadata": {},
   "source": [
    "# Binary Search Tree"
   ]
  },
  {
   "cell_type": "markdown",
   "metadata": {},
   "source": [
    "## algorithm"
   ]
  },
  {
   "cell_type": "code",
   "execution_count": null,
   "metadata": {},
   "outputs": [],
   "source": [
    "class BinomialTree:\n",
    "    def __init__(self, key):\n",
    "        self._key = key\n",
    "        self._children = []\n",
    "        self._order = 0\n",
    " \n",
    "    def add_at_end(self, t):\n",
    "        self._children.append(t)\n",
    "        self._order = self._order + 1\n",
    " \n",
    " \n",
    "class BinomialHeap:\n",
    "    def __init__(self):\n",
    "        self._trees = []\n",
    "        \n",
    "    def get_min(self):\n",
    "        if len(self._trees) == 0:\n",
    "            return None\n",
    "        minNode = self._trees[0]\n",
    "        for tree in self._trees:\n",
    "            if tree._key < minNode._key:\n",
    "                minNode = tree\n",
    "                \n",
    "        return minNode._key\n",
    "    \n",
    "    def extract_min(self):\n",
    "        if len(self._trees) == 0:\n",
    "            return None\n",
    "        minNode = self._trees[0]\n",
    "        for tree in self._trees:\n",
    "            if tree._key < minNode._key:\n",
    "                minNode = tree\n",
    "        sub_tree = BinomialHeap()\n",
    "        sub_tree.trees = minNode.children\n",
    "        self.trees.remove(minNode)\n",
    "        self.merge(sub_tree)\n",
    "        \n",
    "        return minNode._key\n",
    "    \n",
    "    def insert(self, key):\n",
    "        newTree = BinomialHeap()\n",
    "        newTree.trees.append(BinomialTree(key))\n",
    "        self.merge(newTree)\n",
    "    \n",
    "    def _combineRoots(self, bh):\n",
    "        self.trees.extend(bh.trees)\n",
    "        self.trees.sort(key=lambda tree: tree._order)\n",
    "    \n",
    "    def merge(self, bh):\n",
    "        self._combineRoots(bh)\n",
    "        if len(self._trees) == 0:\n",
    "            return\n",
    "        i = 0\n",
    "        while i < len(self._trees) - 1:\n",
    "            current = self._trees[i]\n",
    "            after = self._trees[i + 1]\n",
    "            if current._order == after._order:\n",
    "                if (i + 1 < len(self._trees) - 1 and self._trees[i + 2]._order == after._order):\n",
    "                    after_after = self._trees[i + 2]\n",
    "                    if after._key < after_after._key:\n",
    "                        after.add_at_end(after_after)\n",
    "                        del self._trees[i + 2]\n",
    "                    else:\n",
    "                        after_after.add_at_end(after)\n",
    "                        del self._trees[i + 1]\n",
    "                else:\n",
    "                    if current._key < after._key:\n",
    "                        current.add_at_end(after)\n",
    "                        del self._trees[i + 1]\n",
    "                    else:\n",
    "                        after.add_at_end(current)\n",
    "                        del self._trees[i]\n",
    "            i = i + 1\n",
    "\n",
    "    def __str__(self):\n",
    "        ret = \"\"\n",
    "        twoPower = 2\n",
    "        for i in range(1,len(self._heapList)):\n",
    "            ret+=(str(self._heapList[i])+' ')\n",
    "            if i == twoPower-1:\n",
    "                ret += '\\n'\n",
    "                twoPower *= 2\n",
    "        return ret\n",
    "    "
   ]
  },
  {
   "cell_type": "markdown",
   "metadata": {},
   "source": [
    "## run"
   ]
  },
  {
   "cell_type": "code",
   "execution_count": 64,
   "metadata": {},
   "outputs": [
    {
     "name": "stdout",
     "output_type": "stream",
     "text": [
      "1 \n",
      "7 4 \n",
      "10 45 20 9 \n",
      "14 \n",
      "==========\n",
      "1\n",
      "4\n",
      "7\n",
      "9\n",
      "10\n",
      "14\n",
      "20\n",
      "45\n",
      "None\n",
      "==========\n",
      "42 \n",
      "23 20 \n",
      "15 3 12 1 \n",
      "5 7 \n"
     ]
    }
   ],
   "source": [
    "bh1 = BinaryHeap(HeapType.minheap)\n",
    "bh1.push(10)\n",
    "bh1.push(4)\n",
    "bh1.push(9)\n",
    "bh1.push(14)\n",
    "bh1.push(45)\n",
    "bh1.push(20)\n",
    "bh1.push(1)\n",
    "bh1.push(7)\n",
    "\n",
    "print(bh1)\n",
    "print(\"==========\")\n",
    "print(bh1.pop())\n",
    "print(bh1.pop())\n",
    "print(bh1.pop())\n",
    "print(bh1.pop())\n",
    "print(bh1.pop())\n",
    "print(bh1.pop())\n",
    "print(bh1.pop())\n",
    "print(bh1.pop())\n",
    "print(bh1.pop())\n",
    "\n",
    "print(\"==========\")\n",
    "bh2 = BinaryHeap(HeapType.maxheap)\n",
    "bh2.buildHeap([5,3,12,7,42,20,1,15,23])\n",
    "print(bh2)\n"
   ]
  },
  {
   "cell_type": "code",
   "execution_count": null,
   "metadata": {},
   "outputs": [],
   "source": []
  },
  {
   "cell_type": "code",
   "execution_count": null,
   "metadata": {},
   "outputs": [],
   "source": []
  }
 ],
 "metadata": {
  "kernelspec": {
   "display_name": "Python 3",
   "language": "python",
   "name": "python3"
  },
  "language_info": {
   "codemirror_mode": {
    "name": "ipython",
    "version": 3
   },
   "file_extension": ".py",
   "mimetype": "text/x-python",
   "name": "python",
   "nbconvert_exporter": "python",
   "pygments_lexer": "ipython3",
   "version": "3.5.3"
  }
 },
 "nbformat": 4,
 "nbformat_minor": 2
}
